{
 "cells": [
  {
   "cell_type": "code",
   "execution_count": 1,
   "id": "219b3b29",
   "metadata": {},
   "outputs": [
    {
     "data": {
      "text/plain": [
       "'\\nUS Homelessness Data Analysis - Jupyter Notebook Version\\n========================================================\\nThis script analyzes homelessness data across US states and territories.\\nRun each cell in order to build up the analysis step by step.\\n'"
      ]
     },
     "execution_count": 1,
     "metadata": {},
     "output_type": "execute_result"
    }
   ],
   "source": [
    "\"\"\"\n",
    "US Homelessness Data Analysis - Jupyter Notebook Version\n",
    "========================================================\n",
    "This script analyzes homelessness data across US states and territories.\n",
    "Run each cell in order to build up the analysis step by step.\n",
    "\"\"\""
   ]
  },
  {
   "cell_type": "code",
   "execution_count": 2,
   "id": "d6b5018b",
   "metadata": {},
   "outputs": [
    {
     "name": "stdout",
     "output_type": "stream",
     "text": [
      "Imports successful!\n"
     ]
    }
   ],
   "source": [
    "# =============================================================================\n",
    "# CELL 1: IMPORTS AND SETUP\n",
    "# =============================================================================\n",
    "\n",
    "import pandas as pd\n",
    "import matplotlib.pyplot as plt\n",
    "import seaborn as sns\n",
    "\n",
    "# Install required package (uncomment if needed)\n",
    "# !pip install pyxlsb\n",
    "\n",
    "print(\"Imports successful!\")"
   ]
  },
  {
   "cell_type": "code",
   "execution_count": 3,
   "id": "c59c0c1b",
   "metadata": {},
   "outputs": [],
   "source": [
    "# =============================================================================\n",
    "# CELL 2: LOAD DATA\n",
    "# =============================================================================\n",
    "\n",
    "# Define the path to your downloaded .xlsb file\n",
    "xlsb_file_path = '----'\n",
    "\n"
   ]
  },
  {
   "cell_type": "code",
   "execution_count": 51,
   "id": "c534d1a5",
   "metadata": {},
   "outputs": [
    {
     "name": "stdout",
     "output_type": "stream",
     "text": [
      "Excel file loaded successfully!\n",
      "Dataset shape: (60, 1306)\n",
      "\n",
      "First few rows:\n",
      "  State  Number of CoCs Overall Homeless Overall Homeless - Under 18  \\\n",
      "0    AK             2.0             2686                         443   \n",
      "1    AL             9.0             4601                         761   \n",
      "2    AR             5.0             2783                         328   \n",
      "3    AS             0.0                                                \n",
      "4    AZ             3.0            14737                        1904   \n",
      "\n",
      "  Overall Homeless - Age 18 to 24 Overall Homeless - Over 24  \\\n",
      "0                             228                       2015   \n",
      "1                             276                       3564   \n",
      "2                             225                       2230   \n",
      "3                                                              \n",
      "4                            1017                      11816   \n",
      "\n",
      "  Overall Homeless - Age 25 to 34 Overall Homeless - Age 35 to 44  \\\n",
      "0                             495                             624   \n",
      "1                             784                             847   \n",
      "2                             513                             603   \n",
      "3                                                                   \n",
      "4                            2789                            3170   \n",
      "\n",
      "  Overall Homeless - Age 45 to 54 Overall Homeless - Age 55 to 64  ...  \\\n",
      "0                             390                             368  ...   \n",
      "1                             857                             737  ...   \n",
      "2                             483                             437  ...   \n",
      "3                                                                  ...   \n",
      "4                            2513                            2299  ...   \n",
      "\n",
      "  Overall Homeless Parenting Youth Age 18-24  \\\n",
      "0                                         10   \n",
      "1                                         22   \n",
      "2                                         16   \n",
      "3                                              \n",
      "4                                         49   \n",
      "\n",
      "  Sheltered ES Homeless Parenting Youth Age 18-24  \\\n",
      "0                                               5   \n",
      "1                                               9   \n",
      "2                                              11   \n",
      "3                                                   \n",
      "4                                              23   \n",
      "\n",
      "  Sheltered TH Homeless Parenting Youth Age 18-24  \\\n",
      "0                                               5   \n",
      "1                                               5   \n",
      "2                                               4   \n",
      "3                                                   \n",
      "4                                              18   \n",
      "\n",
      "  Sheltered Total Homeless Parenting Youth Age 18-24  \\\n",
      "0                                                 10   \n",
      "1                                                 14   \n",
      "2                                                 15   \n",
      "3                                                      \n",
      "4                                                 41   \n",
      "\n",
      "  Unsheltered Homeless Parenting Youth Age 18-24  \\\n",
      "0                                              0   \n",
      "1                                              8   \n",
      "2                                              1   \n",
      "3                                                  \n",
      "4                                              8   \n",
      "\n",
      "  Overall Homeless Children of Parenting Youth  \\\n",
      "0                                           10   \n",
      "1                                           32   \n",
      "2                                           23   \n",
      "3                                                \n",
      "4                                           59   \n",
      "\n",
      "  Sheltered ES Homeless Children of Parenting Youth  \\\n",
      "0                                                 6   \n",
      "1                                                18   \n",
      "2                                                18   \n",
      "3                                                     \n",
      "4                                                28   \n",
      "\n",
      "  Sheltered TH Homeless Children of Parenting Youth  \\\n",
      "0                                                 4   \n",
      "1                                                 6   \n",
      "2                                                 4   \n",
      "3                                                     \n",
      "4                                                20   \n",
      "\n",
      "  Sheltered Total Homeless Children of Parenting Youth  \\\n",
      "0                                                 10     \n",
      "1                                                 24     \n",
      "2                                                 22     \n",
      "3                                                        \n",
      "4                                                 48     \n",
      "\n",
      "  Unsheltered Homeless Children of Parenting Youth  \n",
      "0                                                0  \n",
      "1                                                8  \n",
      "2                                                1  \n",
      "3                                                   \n",
      "4                                               11  \n",
      "\n",
      "[5 rows x 1306 columns]\n"
     ]
    }
   ],
   "source": [
    "# Load the data\n",
    "df = pd.read_excel(xlsb_file_path)\n",
    "print(\"Excel file loaded successfully!\")\n",
    "print(f\"Dataset shape: {df.shape}\")\n",
    "\n",
    "# Display basic info\n",
    "print(\"\\nFirst few rows:\")\n",
    "print(df.head())"
   ]
  },
  {
   "cell_type": "code",
   "execution_count": 5,
   "id": "b591f571",
   "metadata": {},
   "outputs": [
    {
     "name": "stdout",
     "output_type": "stream",
     "text": [
      "Dataset info:\n",
      "<class 'pandas.core.frame.DataFrame'>\n",
      "RangeIndex: 60 entries, 0 to 59\n",
      "Columns: 1306 entries, State to Unsheltered Homeless Children of Parenting Youth\n",
      "dtypes: float64(2), object(1304)\n",
      "memory usage: 612.3+ KB\n",
      "\n",
      "Basic statistics:\n",
      "       Number of CoCs  \\\n",
      "count       57.000000   \n",
      "mean        13.526316   \n",
      "std         50.709292   \n",
      "min          0.000000   \n",
      "25%          2.000000   \n",
      "50%          4.000000   \n",
      "75%         10.000000   \n",
      "max        385.000000   \n",
      "\n",
      "       Overall Homeless Unaccompanied Youth (Under 25) - Non-Hispanic/Latina/e/o  \n",
      "count                                          55.000000                          \n",
      "mean                                          934.618182                          \n",
      "std                                          3509.247759                          \n",
      "min                                             3.000000                          \n",
      "25%                                           116.000000                          \n",
      "50%                                           252.000000                          \n",
      "75%                                           494.500000                          \n",
      "max                                         25702.000000                          \n"
     ]
    }
   ],
   "source": [
    "# =============================================================================\n",
    "# CELL 3: EXPLORE DATA\n",
    "# =============================================================================\n",
    "\n",
    "print(\"Dataset info:\")\n",
    "df.info()\n",
    "print(\"\\nBasic statistics:\")\n",
    "print(df.describe())"
   ]
  },
  {
   "cell_type": "code",
   "execution_count": 6,
   "id": "f09931b0",
   "metadata": {},
   "outputs": [
    {
     "name": "stdout",
     "output_type": "stream",
     "text": [
      "After filtering numeric values: (55, 1306)\n"
     ]
    }
   ],
   "source": [
    "# =============================================================================\n",
    "# CELL 4: CLEAN DATA\n",
    "# =============================================================================\n",
    "\n",
    "# Filter out rows where 'Overall Homeless' cannot be converted to numeric\n",
    "df_filtered = df[pd.to_numeric(df['Overall Homeless'], errors='coerce').notna()]\n",
    "print(f\"After filtering numeric values: {df_filtered.shape}\")\n"
   ]
  },
  {
   "cell_type": "code",
   "execution_count": 7,
   "id": "64a2ed03",
   "metadata": {},
   "outputs": [],
   "source": [
    "# Remove 'Total' row and keep only state/territory abbreviations (2 characters)\n",
    "df_cleaned = df_filtered[\n",
    "    (df_filtered['State'].str.len() == 2) &\n",
    "    (df_filtered['State'] != 'Total') &\n",
    "    (df_filtered['State'] != 'nan')\n",
    "].copy()\n"
   ]
  },
  {
   "cell_type": "code",
   "execution_count": 8,
   "id": "7113ca61",
   "metadata": {},
   "outputs": [],
   "source": [
    "# Ensure proper data types\n",
    "df_cleaned['State'] = df_cleaned['State'].astype(str).str.strip()\n",
    "df_cleaned['Overall Homeless'] = pd.to_numeric(df_cleaned['Overall Homeless'], errors='coerce')\n"
   ]
  },
  {
   "cell_type": "code",
   "execution_count": 9,
   "id": "a150e1f7",
   "metadata": {},
   "outputs": [
    {
     "name": "stdout",
     "output_type": "stream",
     "text": [
      "After cleaning: (54, 1306)\n",
      "\n",
      "Cleaned data sample:\n",
      "   State  Overall Homeless\n",
      "0     AK              2686\n",
      "1     AL              4601\n",
      "2     AR              2783\n",
      "4     AZ             14737\n",
      "5     CA            187084\n",
      "6     CO             18715\n",
      "7     CT              3410\n",
      "8     DC              5616\n",
      "9     DE              1358\n",
      "10    FL             31362\n"
     ]
    }
   ],
   "source": [
    "# Remove any remaining NaN values in Overall Homeless\n",
    "df_cleaned = df_cleaned.dropna(subset=['Overall Homeless']).copy()\n",
    "\n",
    "print(f\"After cleaning: {df_cleaned.shape}\")\n",
    "print(\"\\nCleaned data sample:\")\n",
    "print(df_cleaned[['State', 'Overall Homeless']].head(10))"
   ]
  },
  {
   "cell_type": "code",
   "execution_count": 10,
   "id": "27531575",
   "metadata": {},
   "outputs": [
    {
     "name": "stdout",
     "output_type": "stream",
     "text": [
      "Population data created!\n",
      "Population data shape: (56, 2)\n",
      "  State  Population 2024\n",
      "0    AL          5157699\n",
      "1    AK           740133\n",
      "2    AZ          7582384\n",
      "3    AR          3088354\n",
      "4    CA         39431263\n"
     ]
    }
   ],
   "source": [
    "# =============================================================================\n",
    "# CELL 5: POPULATION DATA\n",
    "# =============================================================================\n",
    "\n",
    "# Create population data for US states and territories (2024 estimates)\n",
    "population_data = {\n",
    "    'State': [\n",
    "        'AL', 'AK', 'AZ', 'AR', 'CA', 'CO', 'CT', 'DE', 'DC', 'FL', 'GA', 'GU',\n",
    "        'HI', 'ID', 'IL', 'IN', 'IA', 'KS', 'KY', 'LA', 'ME', 'MD', 'MA', 'MI',\n",
    "        'MN', 'MS', 'MO', 'MP', 'MT', 'NE', 'NV', 'NH', 'NJ', 'NM', 'NY', 'NC',\n",
    "        'ND', 'OH', 'OK', 'OR', 'PA', 'PR', 'RI', 'SC', 'SD', 'TN', 'TX', 'UT',\n",
    "        'VA', 'VI', 'VT', 'WA', 'WV', 'WI', 'WY', 'AS'\n",
    "    ],\n",
    "    'Population 2024': [\n",
    "        5157699, 740133, 7582384, 3088354, 39431263, 5957493, 3675069, 1051917,\n",
    "        702250, 23372215, 11180878, 172951, 1446146, 2001619, 12710158, 6924275,\n",
    "        3241488, 2970606, 4588372, 4597740, 1405012, 6263220, 7136171, 10140459,\n",
    "        5793151, 2943045, 6245466, 47326, 1137233, 2005465, 3267467, 1409032,\n",
    "        9500851, 2130256, 19867248, 11046024, 796568, 11883304, 4095393, 4272371,\n",
    "        13078751, 3203295, 1112308, 5478831, 924669, 7227750, 31290831, 3503613,\n",
    "        8811195, 98774, 648493, 7958180, 1769979, 5960975, 587618, 44293\n",
    "    ]\n",
    "}\n",
    "\n",
    "df_population = pd.DataFrame(population_data)\n",
    "print(\"Population data created!\")\n",
    "print(f\"Population data shape: {df_population.shape}\")\n",
    "print(df_population.head())"
   ]
  },
  {
   "cell_type": "code",
   "execution_count": 11,
   "id": "a6f843c7",
   "metadata": {},
   "outputs": [
    {
     "name": "stdout",
     "output_type": "stream",
     "text": [
      "Merged data shape: (54, 1307)\n"
     ]
    }
   ],
   "source": [
    "# =============================================================================\n",
    "# CELL 6: MERGE DATA\n",
    "# =============================================================================\n",
    "\n",
    "# Merge homelessness data with population data\n",
    "df_merged = pd.merge(df_cleaned, df_population, on='State', how='left')\n",
    "print(f\"Merged data shape: {df_merged.shape}\")\n"
   ]
  },
  {
   "cell_type": "code",
   "execution_count": 12,
   "id": "6b722a81",
   "metadata": {},
   "outputs": [
    {
     "name": "stdout",
     "output_type": "stream",
     "text": [
      "Final dataset with rates calculated!\n",
      "\n",
      "Sample of final data:\n",
      "  State  Overall Homeless  Population 2024  Homeless Per 100K\n",
      "0    AK              2686           740133              363.0\n",
      "1    AL              4601          5157699               89.0\n",
      "2    AR              2783          3088354               90.0\n",
      "3    AZ             14737          7582384              194.0\n",
      "4    CA            187084         39431263              474.0\n"
     ]
    }
   ],
   "source": [
    "# Calculate homelessness rate per 100,000 population\n",
    "df_merged['Homeless Per 100K'] = (df_merged['Overall Homeless'] / df_merged['Population 2024']) * 100000\n",
    "df_final = df_merged.round()\n",
    "\n",
    "print(\"Final dataset with rates calculated!\")\n",
    "print(\"\\nSample of final data:\")\n",
    "print(df_final[['State', 'Overall Homeless', 'Population 2024', 'Homeless Per 100K']].head())\n"
   ]
  },
  {
   "cell_type": "code",
   "execution_count": 13,
   "id": "3af48af3",
   "metadata": {},
   "outputs": [
    {
     "name": "stdout",
     "output_type": "stream",
     "text": [
      "=== SUMMARY STATISTICS ===\n",
      "\n",
      "Top 10 states by absolute homeless population:\n",
      "State  Overall Homeless\n",
      "   CA            187084\n",
      "   NY            158019\n",
      "   WA             31554\n",
      "   FL             31362\n",
      "   MA             29360\n",
      "   TX             27987\n",
      "   IL             25832\n",
      "   OR             22875\n",
      "   CO             18715\n",
      "   AZ             14737\n"
     ]
    }
   ],
   "source": [
    "# =============================================================================\n",
    "# CELL 7: SUMMARY STATISTICS\n",
    "# =============================================================================\n",
    "\n",
    "print(\"=== SUMMARY STATISTICS ===\")\n",
    "print(\"\\nTop 10 states by absolute homeless population:\")\n",
    "top_homeless = df_final.nlargest(10, 'Overall Homeless')[['State', 'Overall Homeless']]\n",
    "print(top_homeless.to_string(index=False))\n"
   ]
  },
  {
   "cell_type": "code",
   "execution_count": 14,
   "id": "5a19a0c3",
   "metadata": {},
   "outputs": [
    {
     "name": "stdout",
     "output_type": "stream",
     "text": [
      "\n",
      "Top 10 states by homelessness rate (per 100K):\n",
      "State  Homeless Per 100K\n",
      "   HI              805.0\n",
      "   DC              800.0\n",
      "   NY              795.0\n",
      "   GU              722.0\n",
      "   OR              535.0\n",
      "   VT              533.0\n",
      "   CA              474.0\n",
      "   MA              411.0\n",
      "   WA              396.0\n",
      "   AK              363.0\n"
     ]
    }
   ],
   "source": [
    "print(\"\\nTop 10 states by homelessness rate (per 100K):\")\n",
    "top_rate = df_final.nlargest(10, 'Homeless Per 100K')[['State', 'Homeless Per 100K']]\n",
    "print(top_rate.to_string(index=False))\n"
   ]
  },
  {
   "cell_type": "code",
   "execution_count": 15,
   "id": "409ccdd0",
   "metadata": {},
   "outputs": [
    {
     "name": "stdout",
     "output_type": "stream",
     "text": [
      "\n",
      "Bottom 10 states by homelessness rate (per 100K):\n",
      "State  Homeless Per 100K\n",
      "   MS               35.0\n",
      "   PR               65.0\n",
      "   LA               75.0\n",
      "   IA               81.0\n",
      "   VA               81.0\n",
      "   SC               84.0\n",
      "   WI               85.0\n",
      "   WY               85.0\n",
      "   AL               89.0\n",
      "   TX               89.0\n"
     ]
    }
   ],
   "source": [
    "print(\"\\nBottom 10 states by homelessness rate (per 100K):\")\n",
    "bottom_rate = df_final.nsmallest(10, 'Homeless Per 100K')[['State', 'Homeless Per 100K']]\n",
    "print(bottom_rate.to_string(index=False))"
   ]
  },
  {
   "cell_type": "code",
   "execution_count": 43,
   "id": "8281d93b",
   "metadata": {},
   "outputs": [
    {
     "data": {
      "image/png": "[encoded data removed]",
      "text/plain": [
       "<Figure size 1080x576 with 1 Axes>"
      ]
     },
     "metadata": {
      "needs_background": "light"
     },
     "output_type": "display_data"
    }
   ],
   "source": [
    "# =============================================================================\n",
    "# CELL 8: PLOT 1 - TOP STATES BY ABSOLUTE HOMELESS POPULATION\n",
    "# =============================================================================\n",
    "\n",
    "# Top 10 states by absolute homeless population\n",
    "df_top_homeless = df_final.sort_values('Overall Homeless', ascending=False).head(10)\n",
    "\n",
    "plt.figure(figsize=(15, 8))\n",
    "ax = sns.barplot(\n",
    "    x='State',\n",
    "    y='Overall Homeless',\n",
    "    data=df_top_homeless,\n",
    "    palette='Oranges_r'\n",
    ")\n",
    "\n",
    "plt.title('Top 10 States by Overall Homeless Population in 2024', fontsize=16)\n",
    "plt.xlabel('State', fontsize=12)\n",
    "plt.ylabel('Overall Homeless Count', fontsize=12)\n",
    "plt.xticks(rotation=45, ha='right', fontsize=10)\n",
    "\n",
    "# Add value labels on bars\n",
    "for container in ax.containers:\n",
    "    ax.bar_label(container, fmt='%.0f', label_type='edge', fontsize=9, padding=3)\n",
    "\n",
    "plt.tight_layout()\n",
    "plt.show()\n"
   ]
  },
  {
   "cell_type": "code",
   "execution_count": 46,
   "id": "fae99bff",
   "metadata": {},
   "outputs": [
    {
     "data": {
      "image/png": "[encoded data removed]",
      "text/plain": [
       "<Figure size 864x504 with 1 Axes>"
      ]
     },
     "metadata": {
      "needs_background": "light"
     },
     "output_type": "display_data"
    }
   ],
   "source": [
    "# =============================================================================\n",
    "# CELL 9: PLOT 2 - TOP STATES BY POPULATION\n",
    "# =============================================================================\n",
    "\n",
    "# Top 10 states by population\n",
    "df_top_population = df_final.sort_values('Population 2024', ascending=False).head(10)\n",
    "\n",
    "plt.figure(figsize=(12, 7))\n",
    "ax = sns.barplot(\n",
    "    x='State',\n",
    "    y='Population 2024',\n",
    "    data=df_top_population,\n",
    "    palette='PuBu_r'\n",
    ")\n",
    "\n",
    "plt.title('Top 10 States by Population in 2024', fontsize=16)\n",
    "plt.xlabel('State', fontsize=12)\n",
    "plt.ylabel('Population', fontsize=12)\n",
    "plt.xticks(rotation=45, ha='right', fontsize=10)\n",
    "\n",
    "# Format population labels (millions/thousands)\n",
    "labels_formatted = []\n",
    "for pop_val in df_top_population['Population 2024']:\n",
    "    if pop_val >= 1_000_000:\n",
    "        labels_formatted.append(f'{int(pop_val/1_000_000)}M')\n",
    "    elif pop_val >= 1_000:\n",
    "        labels_formatted.append(f'{int(pop_val/1_000)}K')\n",
    "    else:\n",
    "        labels_formatted.append(f'{int(pop_val)}')\n",
    "\n",
    "for container in ax.containers:\n",
    "    ax.bar_label(container, labels=labels_formatted, label_type='edge', \n",
    "                fontsize=9, padding=3)\n",
    "\n",
    "plt.tight_layout()\n",
    "plt.show()\n"
   ]
  },
  {
   "cell_type": "code",
   "execution_count": 47,
   "id": "76c7fef8",
   "metadata": {},
   "outputs": [
    {
     "data": {
      "image/png": "[encoded data removed]",
      "text/plain": [
       "<Figure size 864x504 with 1 Axes>"
      ]
     },
     "metadata": {
      "needs_background": "light"
     },
     "output_type": "display_data"
    }
   ],
   "source": [
    "# =============================================================================\n",
    "# CELL 10: PLOT 3 - TOP STATES BY HOMELESSNESS RATE\n",
    "# =============================================================================\n",
    "\n",
    "# Top 10 states by homelessness rate (per 100K)\n",
    "df_top_rate = df_final.sort_values('Homeless Per 100K', ascending=False).head(10)\n",
    "\n",
    "plt.figure(figsize=(12, 7))\n",
    "ax = sns.barplot(\n",
    "    x='State',\n",
    "    y='Homeless Per 100K',\n",
    "    data=df_top_rate,\n",
    "    palette='viridis'\n",
    ")\n",
    "\n",
    "plt.title('Top 10 States by Homelessness Rate (Per 100,000 Population)', fontsize=16)\n",
    "plt.xlabel('State', fontsize=12)\n",
    "plt.ylabel('Homeless Individuals per 100,000 People', fontsize=12)\n",
    "plt.xticks(rotation=45, ha='right', fontsize=10)\n",
    "\n",
    "# Add value labels on bars\n",
    "for container in ax.containers:\n",
    "    ax.bar_label(container, fmt='%.1f', label_type='edge', fontsize=9, padding=3)\n",
    "\n",
    "plt.tight_layout()\n",
    "plt.show()"
   ]
  },
  {
   "cell_type": "code",
   "execution_count": 48,
   "id": "e25d8de0",
   "metadata": {},
   "outputs": [
    {
     "data": {
      "image/png": "[encoded data removed]",
      "text/plain": [
       "<Figure size 864x504 with 1 Axes>"
      ]
     },
     "metadata": {
      "needs_background": "light"
     },
     "output_type": "display_data"
    }
   ],
   "source": [
    "# =============================================================================\n",
    "# CELL 11: PLOT 4 - BOTTOM STATES BY HOMELESSNESS RATE\n",
    "# =============================================================================\n",
    "\n",
    "# Bottom 10 states by homelessness rate (per 100K)\n",
    "df_bottom_rate = df_final.sort_values('Homeless Per 100K', ascending=True).head(10)\n",
    "\n",
    "plt.figure(figsize=(12, 7))\n",
    "ax = sns.barplot(\n",
    "    x='State',\n",
    "    y='Homeless Per 100K',\n",
    "    data=df_bottom_rate,\n",
    "    palette='viridis_r'\n",
    ")\n",
    "\n",
    "plt.title('Bottom 10 States by Homelessness Rate (Per 100,000 Population)', fontsize=16)\n",
    "plt.xlabel('State', fontsize=12)\n",
    "plt.ylabel('Homeless Individuals per 100,000 People', fontsize=12)\n",
    "plt.xticks(rotation=45, ha='right', fontsize=10)\n",
    "\n",
    "# Add value labels on bars\n",
    "for container in ax.containers:\n",
    "    ax.bar_label(container, fmt='%.1f', label_type='edge', fontsize=9, padding=3)\n",
    "\n",
    "plt.tight_layout()\n",
    "plt.show()\n"
   ]
  },
  {
   "cell_type": "code",
   "execution_count": null,
   "id": "9a38c937",
   "metadata": {},
   "outputs": [],
   "source": []
  }
 ],
 "metadata": {
  "kernelspec": {
   "display_name": "Python 3 (ipykernel)",
   "language": "python",
   "name": "python3"
  },
  "language_info": {
   "codemirror_mode": {
    "name": "ipython",
    "version": 3
   },
   "file_extension": ".py",
   "mimetype": "text/x-python",
   "name": "python",
   "nbconvert_exporter": "python",
   "pygments_lexer": "ipython3",
   "version": "3.9.12"
  }
 },
 "nbformat": 4,
 "nbformat_minor": 5
}
